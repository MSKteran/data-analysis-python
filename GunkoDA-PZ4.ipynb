{
 "cells": [
  {
   "cell_type": "code",
   "execution_count": 156,
   "metadata": {},
   "outputs": [],
   "source": [
    "import numpy as np\n",
    "import pandas as pd\n",
    "import seaborn as sns"
   ]
  },
  {
   "cell_type": "markdown",
   "metadata": {},
   "source": [
    "Вариант 4. Заменить пропущенные значения в столбце y на средние по столбцу, удалить строки, которые содержат пропуски в столбце x, выявить выбросы в столбце y и заменить их интерполяцией. Построить диаграмму рассеяния с уменьшенным размером маркера, скрипичные диаграммы и диаграмму рассеяния по случайной выборке из 12 значений."
   ]
  },
  {
   "cell_type": "code",
   "execution_count": 157,
   "metadata": {},
   "outputs": [
    {
     "data": {
      "text/html": [
       "<div>\n",
       "<style scoped>\n",
       "    .dataframe tbody tr th:only-of-type {\n",
       "        vertical-align: middle;\n",
       "    }\n",
       "\n",
       "    .dataframe tbody tr th {\n",
       "        vertical-align: top;\n",
       "    }\n",
       "\n",
       "    .dataframe thead th {\n",
       "        text-align: right;\n",
       "    }\n",
       "</style>\n",
       "<table border=\"1\" class=\"dataframe\">\n",
       "  <thead>\n",
       "    <tr style=\"text-align: right;\">\n",
       "      <th></th>\n",
       "      <th>x</th>\n",
       "      <th>y</th>\n",
       "    </tr>\n",
       "  </thead>\n",
       "  <tbody>\n",
       "    <tr>\n",
       "      <th>0</th>\n",
       "      <td>-0.791690</td>\n",
       "      <td>-0.575642</td>\n",
       "    </tr>\n",
       "    <tr>\n",
       "      <th>1</th>\n",
       "      <td>2.921940</td>\n",
       "      <td>4.685119</td>\n",
       "    </tr>\n",
       "    <tr>\n",
       "      <th>2</th>\n",
       "      <td>-2.489532</td>\n",
       "      <td>-5.565769</td>\n",
       "    </tr>\n",
       "    <tr>\n",
       "      <th>3</th>\n",
       "      <td>-6.712690</td>\n",
       "      <td>-5.104635</td>\n",
       "    </tr>\n",
       "    <tr>\n",
       "      <th>4</th>\n",
       "      <td>1.013748</td>\n",
       "      <td>0.918003</td>\n",
       "    </tr>\n",
       "    <tr>\n",
       "      <th>...</th>\n",
       "      <td>...</td>\n",
       "      <td>...</td>\n",
       "    </tr>\n",
       "    <tr>\n",
       "      <th>995</th>\n",
       "      <td>8.669564</td>\n",
       "      <td>7.318577</td>\n",
       "    </tr>\n",
       "    <tr>\n",
       "      <th>996</th>\n",
       "      <td>-4.069420</td>\n",
       "      <td>-5.371781</td>\n",
       "    </tr>\n",
       "    <tr>\n",
       "      <th>997</th>\n",
       "      <td>8.091316</td>\n",
       "      <td>10.644122</td>\n",
       "    </tr>\n",
       "    <tr>\n",
       "      <th>998</th>\n",
       "      <td>8.150652</td>\n",
       "      <td>6.855598</td>\n",
       "    </tr>\n",
       "    <tr>\n",
       "      <th>999</th>\n",
       "      <td>-2.632166</td>\n",
       "      <td>-1.881828</td>\n",
       "    </tr>\n",
       "  </tbody>\n",
       "</table>\n",
       "<p>1000 rows × 2 columns</p>\n",
       "</div>"
      ],
      "text/plain": [
       "            x          y\n",
       "0   -0.791690  -0.575642\n",
       "1    2.921940   4.685119\n",
       "2   -2.489532  -5.565769\n",
       "3   -6.712690  -5.104635\n",
       "4    1.013748   0.918003\n",
       "..        ...        ...\n",
       "995  8.669564   7.318577\n",
       "996 -4.069420  -5.371781\n",
       "997  8.091316  10.644122\n",
       "998  8.150652   6.855598\n",
       "999 -2.632166  -1.881828\n",
       "\n",
       "[1000 rows x 2 columns]"
      ]
     },
     "execution_count": 157,
     "metadata": {},
     "output_type": "execute_result"
    }
   ],
   "source": [
    "data = pd.read_excel('Семинар 4.xlsx', sheet_name = '4' , names = ['num', 'x', 'y']).drop('num', axis = 1)\n",
    "data"
   ]
  },
  {
   "cell_type": "code",
   "execution_count": 158,
   "metadata": {},
   "outputs": [
    {
     "data": {
      "text/html": [
       "<div>\n",
       "<style scoped>\n",
       "    .dataframe tbody tr th:only-of-type {\n",
       "        vertical-align: middle;\n",
       "    }\n",
       "\n",
       "    .dataframe tbody tr th {\n",
       "        vertical-align: top;\n",
       "    }\n",
       "\n",
       "    .dataframe thead th {\n",
       "        text-align: right;\n",
       "    }\n",
       "</style>\n",
       "<table border=\"1\" class=\"dataframe\">\n",
       "  <thead>\n",
       "    <tr style=\"text-align: right;\">\n",
       "      <th></th>\n",
       "      <th>x</th>\n",
       "      <th>y</th>\n",
       "    </tr>\n",
       "  </thead>\n",
       "  <tbody>\n",
       "    <tr>\n",
       "      <th>0</th>\n",
       "      <td>-0.791690</td>\n",
       "      <td>-0.575642</td>\n",
       "    </tr>\n",
       "    <tr>\n",
       "      <th>1</th>\n",
       "      <td>2.921940</td>\n",
       "      <td>4.685119</td>\n",
       "    </tr>\n",
       "    <tr>\n",
       "      <th>2</th>\n",
       "      <td>-2.489532</td>\n",
       "      <td>-5.565769</td>\n",
       "    </tr>\n",
       "    <tr>\n",
       "      <th>3</th>\n",
       "      <td>-6.712690</td>\n",
       "      <td>-5.104635</td>\n",
       "    </tr>\n",
       "    <tr>\n",
       "      <th>4</th>\n",
       "      <td>1.013748</td>\n",
       "      <td>0.918003</td>\n",
       "    </tr>\n",
       "    <tr>\n",
       "      <th>...</th>\n",
       "      <td>...</td>\n",
       "      <td>...</td>\n",
       "    </tr>\n",
       "    <tr>\n",
       "      <th>995</th>\n",
       "      <td>8.669564</td>\n",
       "      <td>7.318577</td>\n",
       "    </tr>\n",
       "    <tr>\n",
       "      <th>996</th>\n",
       "      <td>-4.069420</td>\n",
       "      <td>-5.371781</td>\n",
       "    </tr>\n",
       "    <tr>\n",
       "      <th>997</th>\n",
       "      <td>8.091316</td>\n",
       "      <td>10.644122</td>\n",
       "    </tr>\n",
       "    <tr>\n",
       "      <th>998</th>\n",
       "      <td>8.150652</td>\n",
       "      <td>6.855598</td>\n",
       "    </tr>\n",
       "    <tr>\n",
       "      <th>999</th>\n",
       "      <td>-2.632166</td>\n",
       "      <td>-1.881828</td>\n",
       "    </tr>\n",
       "  </tbody>\n",
       "</table>\n",
       "<p>998 rows × 2 columns</p>\n",
       "</div>"
      ],
      "text/plain": [
       "            x          y\n",
       "0   -0.791690  -0.575642\n",
       "1    2.921940   4.685119\n",
       "2   -2.489532  -5.565769\n",
       "3   -6.712690  -5.104635\n",
       "4    1.013748   0.918003\n",
       "..        ...        ...\n",
       "995  8.669564   7.318577\n",
       "996 -4.069420  -5.371781\n",
       "997  8.091316  10.644122\n",
       "998  8.150652   6.855598\n",
       "999 -2.632166  -1.881828\n",
       "\n",
       "[998 rows x 2 columns]"
      ]
     },
     "execution_count": 158,
     "metadata": {},
     "output_type": "execute_result"
    }
   ],
   "source": [
    "data['y'] = data['y'].fillna(data['y'].mean())\n",
    "data = data.dropna(subset=['x'])\n",
    "data"
   ]
  },
  {
   "cell_type": "code",
   "execution_count": 159,
   "metadata": {},
   "outputs": [
    {
     "name": "stdout",
     "output_type": "stream",
     "text": [
      "Первая квартиль (y) = -2.811530055763601\n",
      "Третья квартиль (y) = 2.8841772958843306\n",
      "Межквартильное расстояние (y) = 5.695707351647932\n",
      "Верхняя граница (y) = 11.427738323356227\n",
      "Нижняя граница (y) = -11.355091083235498 \n",
      "\n",
      "Строка 66: 24.52551447043054 изменено на 2.001634749819896\n",
      "Строка 197: -15.29471974483068 изменено на 1.1978624961214361\n",
      "Строка 210: -12.193882085363 изменено на 1.2604529686040955\n",
      "Строка 261: 28.52693824522737 изменено на 2.082403571722968\n",
      "Строка 319: -164.2839486679641 изменено на -1.8094881804460807\n",
      "Строка 429: 14.58811253677049 изменено на 1.8010480856393984\n",
      "Строка 452: 11.92749811253495 изменено на 1.747343528292248\n",
      "Строка 499: -138.5002825428231 изменено на -1.2890443448327125\n",
      "Строка 510: 12.28214172570916 изменено на 1.7545020169811858\n",
      "Строка 563: -20.5832255213847 изменено на 1.0911138973126162\n",
      "Строка 603: 12.9376005108347 изменено на 1.7677324661563167\n",
      "Строка 619: -58.69646750034187 изменено на 0.321797317315192\n",
      "Строка 666: -11.6541941629666 изменено на 1.271346580513394\n",
      "Строка 759: 13.54957671619285 изменено на 1.7800852185568043\n",
      "Строка 822: -213.9267946172254 изменено на -2.811530055763601\n",
      "Строка 926: 14.12264580639503 изменено на -0.905235107748473\n",
      "Строка 934: 68.24816193370421 изменено на 2.8841772958843306\n",
      "Строка 952: -13.10563841341854 изменено на -2.811530055763601\n",
      "Строка 959: 11.54677041873395 изменено на 2.8841772958843306\n"
     ]
    }
   ],
   "source": [
    "# Вычисление межквартильного расстояния и границ для столбца 'y'\n",
    "q_025_y = np.quantile(data['y'], 0.25)\n",
    "q_075_y = np.quantile(data['y'], 0.75)\n",
    "idq_y = q_075_y - q_025_y\n",
    "upper_bound_y = q_075_y + 1.5 * idq_y\n",
    "lower_bound_y = q_025_y - 1.5 * idq_y\n",
    "\n",
    "# Вывод результатов\n",
    "print('Первая квартиль (y) =', q_025_y)\n",
    "print('Третья квартиль (y) =', q_075_y)\n",
    "print('Межквартильное расстояние (y) =', idq_y)\n",
    "print('Верхняя граница (y) =', upper_bound_y)\n",
    "print('Нижняя граница (y) =', lower_bound_y, \"\\n\")\n",
    "\n",
    "# Замена выбросов в столбце 'y' интерполяцией\n",
    "for i in data.index:\n",
    "    if (data.loc[i, 'y'] > upper_bound_y) | (data.loc[i, 'y'] < lower_bound_y):\n",
    "        print(f\"Строка {i}: {data.loc[i, 'y']} изменено на {np.interp(data.loc[i, 'y'], (data['y'].min(), data['y'].max()), (q_025_y, q_075_y))}\")\n",
    "        data.loc[i, 'y'] = np.interp(data.loc[i, 'y'], (data['y'].min(), data['y'].max()), (q_025_y, q_075_y))"
   ]
  },
  {
   "cell_type": "markdown",
   "metadata": {},
   "source": [
    "Диаграмма рассеяния с уменьшенным размером маркера (5)"
   ]
  },
  {
   "cell_type": "code",
   "execution_count": 160,
   "metadata": {},
   "outputs": [
    {
     "data": {
      "text/plain": [
       "<Axes: xlabel='x', ylabel='y'>"
      ]
     },
     "execution_count": 160,
     "metadata": {},
     "output_type": "execute_result"
    },
    {
     "data": {
      "image/png": "[encoded data removed]",
      "text/plain": [
       "<Figure size 640x480 with 1 Axes>"
      ]
     },
     "metadata": {},
     "output_type": "display_data"
    }
   ],
   "source": [
    "sns.scatterplot(x = data['x'], y = data['y'], s = 5)"
   ]
  },
  {
   "cell_type": "markdown",
   "metadata": {},
   "source": [
    "Скрипичные диаграммы"
   ]
  },
  {
   "cell_type": "code",
   "execution_count": 161,
   "metadata": {},
   "outputs": [
    {
     "data": {
      "text/plain": [
       "<Axes: ylabel='x'>"
      ]
     },
     "execution_count": 161,
     "metadata": {},
     "output_type": "execute_result"
    },
    {
     "data": {
      "image/png": "[encoded data removed]",
      "text/plain": [
       "<Figure size 640x480 with 1 Axes>"
      ]
     },
     "metadata": {},
     "output_type": "display_data"
    }
   ],
   "source": [
    "sns.violinplot(y = data['x'], data = data)"
   ]
  },
  {
   "cell_type": "code",
   "execution_count": 162,
   "metadata": {},
   "outputs": [
    {
     "data": {
      "text/plain": [
       "<Axes: ylabel='y'>"
      ]
     },
     "execution_count": 162,
     "metadata": {},
     "output_type": "execute_result"
    },
    {
     "data": {
      "image/png": "[encoded data removed]",
      "text/plain": [
       "<Figure size 640x480 with 1 Axes>"
      ]
     },
     "metadata": {},
     "output_type": "display_data"
    }
   ],
   "source": [
    "sns.violinplot(y = data['y'], data = data)"
   ]
  },
  {
   "cell_type": "markdown",
   "metadata": {},
   "source": [
    "Диаграмма рассеяния по случайной выборке из 12 значений"
   ]
  },
  {
   "cell_type": "code",
   "execution_count": 163,
   "metadata": {},
   "outputs": [
    {
     "data": {
      "text/plain": [
       "<Axes: xlabel='x', ylabel='y'>"
      ]
     },
     "execution_count": 163,
     "metadata": {},
     "output_type": "execute_result"
    },
    {
     "data": {
      "image/png": "[encoded data removed]",
      "text/plain": [
       "<Figure size 640x480 with 1 Axes>"
      ]
     },
     "metadata": {},
     "output_type": "display_data"
    }
   ],
   "source": [
    "np.random.seed(42)\n",
    "random_sample = data.sample(12)\n",
    "sns.scatterplot(x = random_sample['x'], y = random_sample['y'])"
   ]
  }
 ],
 "metadata": {
  "kernelspec": {
   "display_name": "Python 3",
   "language": "python",
   "name": "python3"
  },
  "language_info": {
   "codemirror_mode": {
    "name": "ipython",
    "version": 3
   },
   "file_extension": ".py",
   "mimetype": "text/x-python",
   "name": "python",
   "nbconvert_exporter": "python",
   "pygments_lexer": "ipython3",
   "version": "3.10.5"
  }
 },
 "nbformat": 4,
 "nbformat_minor": 2
}
